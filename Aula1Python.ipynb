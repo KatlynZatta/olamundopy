{
 "cells": [
  {
   "cell_type": "markdown",
   "id": "55658860-34a4-408d-af24-065b60a8ed79",
   "metadata": {},
   "source": [
    "# Primeira aula de Python\n",
    "### Eu sou uma célula Markdown (MD)\n"
   ]
  },
  {
   "cell_type": "code",
   "execution_count": 2,
   "id": "ea4194d2-9f3f-4a48-97fa-2251ccdf7dc7",
   "metadata": {},
   "outputs": [
    {
     "name": "stdout",
     "output_type": "stream",
     "text": [
      "Olá mundo, agora no Jupyter Notebook\n"
     ]
    }
   ],
   "source": [
    "print (\"Olá mundo, agora no Jupyter Notebook\")"
   ]
  },
  {
   "cell_type": "markdown",
   "id": "a635f6a1-9db5-464c-95bc-632107bb05ce",
   "metadata": {},
   "source": [
    "# Strings \n",
    "Strings são textos, mais especificamente cadeia de caracteres.\n",
    "Podem ser compostas por letras, numerais, espaços e caracteres especiais visiveis.\n",
    "Uma string sempre terá aspas."
   ]
  },
  {
   "cell_type": "code",
   "execution_count": 3,
   "id": "9af640d0-1c3b-4127-957f-ace542c60226",
   "metadata": {},
   "outputs": [
    {
     "name": "stdout",
     "output_type": "stream",
     "text": [
      "Olá, eu sou uma string\n"
     ]
    }
   ],
   "source": [
    "print(\"Olá, eu sou uma string\")\n"
   ]
  },
  {
   "cell_type": "markdown",
   "id": "625a4d3a-bda5-4ca3-badd-7a2d2c323479",
   "metadata": {},
   "source": [
    "# Juntando Strings (Concatenando)\n",
    "Você pode juntar strings usando o operador de concatenação \"+\"\n"
   ]
  },
  {
   "cell_type": "code",
   "execution_count": null,
   "id": "6964285c-b610-4e10-85bb-3e1651f6fb07",
   "metadata": {},
   "outputs": [],
   "source": []
  }
 ],
 "metadata": {
  "kernelspec": {
   "display_name": "Python [conda env:base] *",
   "language": "python",
   "name": "conda-base-py"
  },
  "language_info": {
   "codemirror_mode": {
    "name": "ipython",
    "version": 3
   },
   "file_extension": ".py",
   "mimetype": "text/x-python",
   "name": "python",
   "nbconvert_exporter": "python",
   "pygments_lexer": "ipython3",
   "version": "3.13.5"
  }
 },
 "nbformat": 4,
 "nbformat_minor": 5
}
